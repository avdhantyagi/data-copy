{
 "cells": [
  {
   "cell_type": "code",
   "execution_count": 2,
   "metadata": {},
   "outputs": [
    {
     "data": {
      "text/plain": [
       "'/Users/avdhantyagi/Downloads/data'"
      ]
     },
     "execution_count": 2,
     "metadata": {},
     "output_type": "execute_result"
    }
   ],
   "source": [
    "import os\n",
    "os.getcwd()"
   ]
  },
  {
   "cell_type": "code",
   "execution_count": 3,
   "metadata": {},
   "outputs": [],
   "source": [
    "data = os.getcwd() + \"/Data\"\n",
    "import shutil"
   ]
  },
  {
   "cell_type": "code",
   "execution_count": 5,
   "metadata": {},
   "outputs": [],
   "source": [
    "#shutil.move('old_directory/test_file.txt', 'new_directory/test_file.txt')\n",
    "\n",
    "for i  in os.listdir(data+\"/train\"):\n",
    "    if i[0] == \".\":\n",
    "        continue\n",
    "    else:\n",
    "        classz = os.listdir(data+\"/train/\"+i)\n",
    "        for j in range(len(classz)):\n",
    "            if(j%5 == 0):\n",
    "                shutil.move(data+\"/train/\"+i + \"/\" + classz[j], data+\"/test/\"+i+\"/\"+classz[j])"
   ]
  },
  {
   "cell_type": "code",
   "execution_count": null,
   "metadata": {},
   "outputs": [],
   "source": []
  }
 ],
 "metadata": {
  "kernelspec": {
   "display_name": "base",
   "language": "python",
   "name": "python3"
  },
  "language_info": {
   "codemirror_mode": {
    "name": "ipython",
    "version": 3
   },
   "file_extension": ".py",
   "mimetype": "text/x-python",
   "name": "python",
   "nbconvert_exporter": "python",
   "pygments_lexer": "ipython3",
   "version": "3.10.13"
  }
 },
 "nbformat": 4,
 "nbformat_minor": 2
}
