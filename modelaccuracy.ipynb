{
 "cells": [
  {
   "cell_type": "code",
   "execution_count": null,
   "metadata": {},
   "outputs": [],
   "source": [
    "from keras.models import load_model\n",
    "model = load_model('/Users/avdhantyagi/Downloads/data/VGG16Original.keras')"
   ]
  },
  {
   "cell_type": "code",
   "execution_count": null,
   "metadata": {},
   "outputs": [],
   "source": [
    "import numpy as np\n",
    "from keras.preprocessing.image import ImageDataGenerator\n",
    "from keras.applications.vgg16 import VGG16\n",
    "\n",
    "# Define directories\n",
    "train_dir = \"Data/train\"\n",
    "test_dir = \"Data/test\"\n",
    "\n",
    "# Define image dimensions\n",
    "img_width, img_height = 224, 224  # VGG16 expects input images to be 224x224\n",
    "\n",
    "# Define number of classes\n",
    "num_classes = 5  # Assuming 5 classes: Dandelion, Daisy, Sunflower, Rose, Tulip\n",
    "\n",
    "# Preprocess and augment data\n",
    "train_datagen = ImageDataGenerator(\n",
    "    rescale=1. / 255,\n",
    "    rotation_range=40,\n",
    "    width_shift_range=0.2,\n",
    "    height_shift_range=0.2,\n",
    "    shear_range=0.2,\n",
    "    zoom_range=0.2,\n",
    "    horizontal_flip=True,\n",
    "    fill_mode='nearest'\n",
    ")\n",
    "test_datagen = ImageDataGenerator(rescale=1. / 255)\n",
    "\n",
    "train_generator = train_datagen.flow_from_directory(\n",
    "    train_dir,\n",
    "    target_size=(img_width, img_height),\n",
    "    batch_size=32,\n",
    "    class_mode='categorical'\n",
    ")\n"
   ]
  },
  {
   "cell_type": "code",
   "execution_count": null,
   "metadata": {},
   "outputs": [],
   "source": [
    "from PIL import Image\n",
    "img_width, img_height = 224, 224 \n",
    "def predict_image_class(image_path):\n",
    "\n",
    "    img = Image.open(image_path)\n",
    "    img = img.resize((img_width, img_height))\n",
    "    img_array = np.array(img)\n",
    "    img_array = img_array / 255.0  # Normalize pixel values\n",
    "    img_array = np.expand_dims(img_array, axis=0)\n",
    "\n",
    "    predictions = model.predict(img_array)\n",
    "\n",
    "    predicted_class_index = np.argmax(predictions)\n",
    "    predicted_class = list(train_generator.class_indices.keys())[predicted_class_index]\n",
    "\n",
    "    return predicted_class"
   ]
  },
  {
   "cell_type": "code",
   "execution_count": null,
   "metadata": {},
   "outputs": [],
   "source": [
    "import os\n",
    "import matplotlib.pyplot as plt\n",
    "import cv2\n",
    "correct = 0\n",
    "count = 0\n",
    "\n",
    "trainPath = os.getcwd()+\"/Data/train\"\n",
    "for i in os.listdir(trainPath):\n",
    "    for j in os.listdir(trainPath + \"/\" + i):\n",
    "        classX = predict_image_class(trainPath + \"/\" + i + \"/\" + j)\n",
    "        if classX == i:\n",
    "            # print(classX + \" \" + i) \n",
    "            correct +=1\n",
    "        else:\n",
    "            # print(classX + \" \" + i)\n",
    "            # plt.imshow(cv2.imread(trainPath + \"/\" + i + \"/\" + j))\n",
    "            correct -=1\n",
    "        count+=1\n",
    "        print(count)\n",
    "        plt.show()"
   ]
  },
  {
   "cell_type": "code",
   "execution_count": null,
   "metadata": {},
   "outputs": [],
   "source": [
    "print(correct)"
   ]
  },
  {
   "cell_type": "code",
   "execution_count": null,
   "metadata": {},
   "outputs": [],
   "source": []
  }
 ],
 "metadata": {
  "kernelspec": {
   "display_name": "base",
   "language": "python",
   "name": "python3"
  },
  "language_info": {
   "codemirror_mode": {
    "name": "ipython",
    "version": 3
   },
   "file_extension": ".py",
   "mimetype": "text/x-python",
   "name": "python",
   "nbconvert_exporter": "python",
   "pygments_lexer": "ipython3",
   "version": "3.10.13"
  }
 },
 "nbformat": 4,
 "nbformat_minor": 2
}
